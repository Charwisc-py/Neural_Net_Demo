{
  "nbformat": 4,
  "nbformat_minor": 0,
  "metadata": {
    "colab": {
      "provenance": []
    },
    "kernelspec": {
      "name": "python3",
      "display_name": "Python 3"
    },
    "language_info": {
      "name": "python"
    }
  },
  "cells": [
    {
      "cell_type": "markdown",
      "source": [
        "# Create Dataset"
      ],
      "metadata": {
        "id": "WEhzCWF2K_-L"
      }
    },
    {
      "cell_type": "code",
      "execution_count": null,
      "metadata": {
        "id": "kYsS10RBeXZK"
      },
      "outputs": [],
      "source": [
        "import numpy as np\n",
        "\n",
        "class generateDataset:\n",
        "  def __init__(self, inputs, set_size):\n",
        "    self.inputs=inputs\n",
        "    self.set_size = set_size\n",
        "\n",
        "  def XOR(self): #xor function on 2 inputs\n",
        "    X, y = [],[]\n",
        "    for i in range(self.set_size):\n",
        "      gen = [np.random.randint(0,2) for i in range(2)]\n",
        "      X.append(gen)\n",
        "      y.append(gen[0] ^ gen[1])\n",
        "    X,y = np.array(X), np.array(y)\n",
        "    X,y = X.reshape(self.set_size, self.inputs), y.reshape(self.set_size, 1)\n",
        "    return X,y\n",
        "\n",
        "  def ODD_EVEN(self): #odd even function on any number of inputs\n",
        "    X, y = [],[]\n",
        "    for i in range(self.set_size):\n",
        "        gen = [np.random.randint(0,2) for i in range(self.inputs)]\n",
        "        X.append(gen)\n",
        "        y.append(sum(gen)%2)\n",
        "    X,y = np.array(X), np.array(y)\n",
        "    X,y = X.reshape(self.set_size, self.inputs), y.reshape(self.set_size, 1)\n",
        "    return X,y #odd is 1 even is 0\n",
        "\n",
        "xor = generateDataset(2,100).XOR()\n",
        "even_odd = generateDataset(5,100).ODD_EVEN()\n",
        "\n",
        "print(str(even_odd[0]) + \"\\n\\n\" + str(even_odd[1]))"
      ]
    },
    {
      "cell_type": "markdown",
      "source": [
        "# Create Artifical Neural Net Class"
      ],
      "metadata": {
        "id": "FeBDr3yZK4Lw"
      }
    },
    {
      "cell_type": "code",
      "source": [
        "class ANN:\n",
        "    #Initialize network with hyperparamaters and weights, biases\n",
        "    def __init__(self, lr, epochs, inputs, hidden1, hidden2, X, y):\n",
        "        self.lr = lr\n",
        "        self.epochs = epochs\n",
        "        #create layers\n",
        "        self.w1 = np.random.randn(inputs, hidden1) * np.sqrt(1/inputs)\n",
        "        self.w2 = np.random.randn(hidden1, hidden2) * np.sqrt(1/hidden1)\n",
        "        self.w3 = np.random.randn(hidden2, 1) * np.sqrt(1/hidden2)\n",
        "        self.b1 = np.zeros((1, hidden1))\n",
        "        self.b2 = np.zeros((1, hidden2))\n",
        "        self.b3 = np.zeros((1, 1))\n",
        "        #load datasets\n",
        "        self.X = X\n",
        "        self.y = y\n",
        "\n",
        "    # Define sigmoid and sigmoid derivitive for use in forward and backward propagation.\n",
        "    def sigmoid(self, x):\n",
        "        return 1/(1+np.exp(-x))\n",
        "\n",
        "    def sigmoid_derivative(self, x):\n",
        "        return x*(1-x)\n",
        "\n",
        "    # Forward propagation as dot product of each layer with sigmoid activation function.\n",
        "    def forward_pass(self, X):\n",
        "        self.a1 = np.dot(X, self.w1) + self.b1\n",
        "        self.o1 = self.sigmoid(self.a1)\n",
        "        self.a2 = np.dot(self.a1, self.w2) + self.b2\n",
        "        self.o2 = self.sigmoid(self.a2)\n",
        "        self.a3 = np.dot(self.a2, self.w3) + self.b3\n",
        "        self.o3 = self.sigmoid(self.a3)\n",
        "        return self.o3\n",
        "\n",
        "    # Backpropagation with\n",
        "    def backprop(self, X, y):\n",
        "        #Find what error each layer is responsible for\n",
        "        self.error = self.o3 - y\n",
        "        self.d3 = np.multiply(self.error, self.sigmoid_derivative(self.o3))\n",
        "        self.d2 = np.multiply(np.dot(self.d3, self.w3.T), self.sigmoid_derivative(self.o2))\n",
        "        self.d1 = np.multiply(np.dot(self.d2, self.w2.T), self.sigmoid_derivative(self.o1))\n",
        "\n",
        "        #Change weights and biases based on error from each layer\n",
        "        self.w3 -= self.lr * np.dot(self.a2.T, self.d3)\n",
        "        self.w2 -= self.lr * np.dot(self.a1.T, self.d2)\n",
        "        self.w1 -= self.lr * np.dot(X.T, self.d1)\n",
        "\n",
        "        self.b3 -= self.lr * np.sum(self.d3, axis=0)\n",
        "        self.b2 -= self.lr * np.sum(self.d2, axis=0)\n",
        "        self.b1 -= self.lr * np.sum(self.d1, axis=0)\n",
        "\n",
        "    def Train(self):\n",
        "        for i in range(self.epochs):\n",
        "            self.forward_pass(self.X)\n",
        "            self.backprop(self.X, self.y)\n",
        "            if i % 1000 == 0:\n",
        "                print(\"Epoch: \", i)"
      ],
      "metadata": {
        "id": "zPzDzYy-mh-r"
      },
      "execution_count": null,
      "outputs": []
    },
    {
      "cell_type": "markdown",
      "source": [
        "# Train and test the model on the dataset."
      ],
      "metadata": {
        "id": "cM13-ebxKs6n"
      }
    },
    {
      "cell_type": "code",
      "source": [
        "# Create models\n",
        "xor_net = ANN(.1, 10000, 2,3,2,xor[0], xor[1])\n",
        "eo_net = ANN(.1,10000,5,10,4,even_odd[0], even_odd[1])\n",
        "\n",
        "#Train models\n",
        "print(\"Training xor:\")\n",
        "xor_net.Train()\n",
        "print(\"Training even_odd:\")\n",
        "eo_net.Train()\n",
        "\n",
        "#Test case for XOR\n",
        "print(\"Xor test case:\")\n",
        "print(xor_net.forward_pass([0,0]))\n",
        "#Test case for EVEN_ODD\n",
        "print(\"Even_odd test case:\")\n",
        "print(eo_net.forward_pass([1,1,1,1,0]))\n",
        "\n"
      ],
      "metadata": {
        "id": "9RGNC8-1pjxY"
      },
      "execution_count": null,
      "outputs": []
    }
  ]
}